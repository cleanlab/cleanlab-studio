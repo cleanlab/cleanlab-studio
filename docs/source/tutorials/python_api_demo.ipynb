{
 "cells": [
  {
   "attachments": {},
   "cell_type": "markdown",
   "metadata": {},
   "source": [
    "### End to End Demo for Cleanlab Studio Python API"
   ]
  },
  {
   "attachments": {},
   "cell_type": "markdown",
   "metadata": {},
   "source": [
    "1) Initialize Studio object with your API key"
   ]
  },
  {
   "cell_type": "code",
   "execution_count": 1,
   "metadata": {},
   "outputs": [],
   "source": [
    "from cleanlab_studio import Studio\n",
    "\n",
    "api_key = \"3a746f025ab14260a18ffe3188c1eece\"\n",
    "studio = Studio(api_key)"
   ]
  },
  {
   "attachments": {},
   "cell_type": "markdown",
   "metadata": {},
   "source": [
    "2. Load dataset as pandas dataframe"
   ]
  },
  {
   "cell_type": "code",
   "execution_count": 14,
   "metadata": {},
   "outputs": [
    {
     "name": "stdout",
     "output_type": "stream",
     "text": [
      "                                                text       id         author   \n",
      "0                                 Man I love reddit.  eeibobj  MrsRobertshaw  \\\n",
      "1  Right? Considering it’s such an important docu...  eespn2i   ImperialBoss   \n",
      "2  That's crazy; I went to a super [RELIGION] hig...  ed5tx8y     Beachy5313   \n",
      "3                                that's adorable asf  ef961hv   RedRails1917   \n",
      "4  \"Sponge Blurb Pubs Quaw Haha GURR ha AAa!\" fin...  edl7cr3       Tiagulus   \n",
      "\n",
      "              subreddit    link_id   parent_id   created_utc  rater_id   \n",
      "0              facepalm  t3_ahulml   t3_ahulml  1.547965e+09        18  \\\n",
      "1            TrueReddit  t3_aizyuz  t1_eesoak0  1.548280e+09        61   \n",
      "2  TeenMomOGandTeenMom2  t3_ac10u9  t1_ed5tfyc  1.546536e+09        23   \n",
      "3  traaaaaaannnnnnnnnns  t3_akz2ia   t3_akz2ia  1.548764e+09        73   \n",
      "4          youtubehaiku  t3_acuvb0  t1_edc21ip  1.546984e+09        54   \n",
      "\n",
      "   example_very_unclear      label  \n",
      "0                 False       love  \n",
      "1                 False  gratitude  \n",
      "2                 False  amusement  \n",
      "3                 False  amusement  \n",
      "4                 False  amusement  \n"
     ]
    }
   ],
   "source": [
    "import pandas as pd\n",
    "\n",
    "df = pd.read_csv(\"https://cleanlab-public.s3.amazonaws.com/StudioDemoDatasets/goemotions_10.csv\")\n",
    "print(df.head())"
   ]
  },
  {
   "attachments": {},
   "cell_type": "markdown",
   "metadata": {},
   "source": [
    "3. Upload dataset to Studio"
   ]
  },
  {
   "cell_type": "code",
   "execution_count": 15,
   "metadata": {},
   "outputs": [
    {
     "name": "stderr",
     "output_type": "stream",
     "text": [
      "Uploading dataset...: 100%|██████████|\n",
      "Generating schema...: 100%|██████████|\n",
      "Ingesting Dataset...: 100%|██████████|\n"
     ]
    },
    {
     "data": {
      "text/plain": [
       "'8f2cac759aef4f7d88f9f67826dede3b'"
      ]
     },
     "execution_count": 15,
     "metadata": {},
     "output_type": "execute_result"
    }
   ],
   "source": [
    "dataset_id = studio.upload_dataset(df, \"Go Emotions\")\n",
    "dataset_id"
   ]
  },
  {
   "attachments": {},
   "cell_type": "markdown",
   "metadata": {},
   "source": [
    "4. Create Project"
   ]
  },
  {
   "cell_type": "code",
   "execution_count": 4,
   "metadata": {},
   "outputs": [
    {
     "data": {
      "text/plain": [
       "'27e1f5faade94c17af8889f4cd902a50'"
      ]
     },
     "execution_count": 4,
     "metadata": {},
     "output_type": "execute_result"
    }
   ],
   "source": [
    "project_id = studio.create_project(dataset_id, \"Multilabel project\", \"text\", model_type=\"fast\", task_type=\"multi-label\")\n",
    "project_id"
   ]
  },
  {
   "attachments": {},
   "cell_type": "markdown",
   "metadata": {},
   "source": [
    "5. Get cleanset ID for project"
   ]
  },
  {
   "cell_type": "code",
   "execution_count": 5,
   "metadata": {},
   "outputs": [
    {
     "data": {
      "text/plain": [
       "'ec23e413f0f74afb838aba2c15aac70d'"
      ]
     },
     "execution_count": 5,
     "metadata": {},
     "output_type": "execute_result"
    }
   ],
   "source": [
    "cleanset_id = studio.get_latest_cleanset_id(project_id)\n",
    "cleanset_id"
   ]
  },
  {
   "attachments": {},
   "cell_type": "markdown",
   "metadata": {},
   "source": [
    "6. Poll for cleanset status until cleanset is ready"
   ]
  },
  {
   "cell_type": "code",
   "execution_count": 6,
   "metadata": {},
   "outputs": [
    {
     "name": "stderr",
     "output_type": "stream",
     "text": [
      "Cleanset Progress: | Step 0/5, Initializing...\n"
     ]
    },
    {
     "ename": "KeyboardInterrupt",
     "evalue": "",
     "output_type": "error",
     "traceback": [
      "\u001b[0;31m---------------------------------------------------------------------------\u001b[0m",
      "\u001b[0;31mKeyboardInterrupt\u001b[0m                         Traceback (most recent call last)",
      "Cell \u001b[0;32mIn[6], line 1\u001b[0m\n\u001b[0;32m----> 1\u001b[0m studio\u001b[39m.\u001b[39;49mpoll_cleanset_status(cleanset_id, timeout\u001b[39m=\u001b[39;49m\u001b[39m30\u001b[39;49m)\n",
      "File \u001b[0;32m/opt/homebrew/lib/python3.10/site-packages/cleanlab_studio/studio/studio.py:231\u001b[0m, in \u001b[0;36mStudio.poll_cleanset_status\u001b[0;34m(self, cleanset_id, timeout)\u001b[0m\n\u001b[1;32m    225\u001b[0m \u001b[39mdef\u001b[39;00m \u001b[39mpoll_cleanset_status\u001b[39m(\u001b[39mself\u001b[39m, cleanset_id: \u001b[39mstr\u001b[39m, timeout: Optional[\u001b[39mint\u001b[39m] \u001b[39m=\u001b[39m \u001b[39mNone\u001b[39;00m) \u001b[39m-\u001b[39m\u001b[39m>\u001b[39m \u001b[39mbool\u001b[39m:\n\u001b[1;32m    226\u001b[0m \u001b[39m    \u001b[39m\u001b[39m\"\"\"\u001b[39;00m\n\u001b[1;32m    227\u001b[0m \u001b[39m    Polls for cleanset status. Blocks until cleanset is ready, there is a cleanset error, or `timeout` is exceeded\u001b[39;00m\n\u001b[1;32m    228\u001b[0m \n\u001b[1;32m    229\u001b[0m \u001b[39m    :return: True if cleanset is ready, False otherwise\u001b[39;00m\n\u001b[1;32m    230\u001b[0m \u001b[39m    \"\"\"\u001b[39;00m\n\u001b[0;32m--> 231\u001b[0m     \u001b[39mreturn\u001b[39;00m clean\u001b[39m.\u001b[39;49mpoll_cleanset_status(\u001b[39mself\u001b[39;49m\u001b[39m.\u001b[39;49m_api_key, cleanset_id, timeout)\n",
      "File \u001b[0;32m/opt/homebrew/lib/python3.10/site-packages/cleanlab_studio/studio/clean.py:21\u001b[0m, in \u001b[0;36mpoll_cleanset_status\u001b[0;34m(api_key, cleanset_id, timeout)\u001b[0m\n\u001b[1;32m     19\u001b[0m \u001b[39mwhile\u001b[39;00m \u001b[39mnot\u001b[39;00m res[\u001b[39m\"\u001b[39m\u001b[39mis_ready\u001b[39m\u001b[39m\"\u001b[39m] \u001b[39mand\u001b[39;00m \u001b[39mnot\u001b[39;00m res[\u001b[39m\"\u001b[39m\u001b[39mhas_error\u001b[39m\u001b[39m\"\u001b[39m]:\n\u001b[1;32m     20\u001b[0m     \u001b[39mfor\u001b[39;00m _ \u001b[39min\u001b[39;00m \u001b[39mrange\u001b[39m(\u001b[39m50\u001b[39m):\n\u001b[0;32m---> 21\u001b[0m         time\u001b[39m.\u001b[39;49msleep(\u001b[39m0.1\u001b[39;49m)\n\u001b[1;32m     22\u001b[0m         pbar\u001b[39m.\u001b[39mset_description_str(\u001b[39mf\u001b[39m\u001b[39m\"\u001b[39m\u001b[39mCleanset Progress: \u001b[39m\u001b[39m{\u001b[39;00mspinner[spinner_idx]\u001b[39m}\u001b[39;00m\u001b[39m\"\u001b[39m)\n\u001b[1;32m     23\u001b[0m         spinner_idx \u001b[39m+\u001b[39m\u001b[39m=\u001b[39m \u001b[39m1\u001b[39m\n",
      "\u001b[0;31mKeyboardInterrupt\u001b[0m: "
     ]
    }
   ],
   "source": [
    "studio.poll_cleanset_status(cleanset_id, timeout=30)"
   ]
  },
  {
   "cell_type": "code",
   "execution_count": 7,
   "metadata": {},
   "outputs": [
    {
     "ename": "APIError",
     "evalue": "Cannot download cleanlab columns. Cleanset is not ready. You can check cleanset status at https://app.cleanlab.ai/ or by using the Python API `poll_cleanset_status()` method",
     "output_type": "error",
     "traceback": [
      "\u001b[0;31m---------------------------------------------------------------------------\u001b[0m",
      "\u001b[0;31mAPIError\u001b[0m                                  Traceback (most recent call last)",
      "Cell \u001b[0;32mIn[7], line 1\u001b[0m\n\u001b[0;32m----> 1\u001b[0m cleanlab_columns_df \u001b[39m=\u001b[39m studio\u001b[39m.\u001b[39;49mdownload_cleanlab_columns(cleanset_id)\n\u001b[1;32m      2\u001b[0m cleanlab_columns_df\u001b[39m.\u001b[39mhead()\n",
      "File \u001b[0;32m/opt/homebrew/lib/python3.10/site-packages/cleanlab_studio/studio/studio.py:61\u001b[0m, in \u001b[0;36mStudio.download_cleanlab_columns\u001b[0;34m(self, cleanset_id)\u001b[0m\n\u001b[1;32m     59\u001b[0m project_id \u001b[39m=\u001b[39m api\u001b[39m.\u001b[39mget_project_of_cleanset(\u001b[39mself\u001b[39m\u001b[39m.\u001b[39m_api_key, cleanset_id)\n\u001b[1;32m     60\u001b[0m label_column \u001b[39m=\u001b[39m api\u001b[39m.\u001b[39mget_label_column_of_project(\u001b[39mself\u001b[39m\u001b[39m.\u001b[39m_api_key, project_id)\n\u001b[0;32m---> 61\u001b[0m \u001b[39mreturn\u001b[39;00m \u001b[39mself\u001b[39;49m\u001b[39m.\u001b[39;49m_download_cleanlab_columns(cleanset_id, project_id, label_column)\n",
      "File \u001b[0;32m/opt/homebrew/lib/python3.10/site-packages/cleanlab_studio/studio/studio.py:70\u001b[0m, in \u001b[0;36mStudio._download_cleanlab_columns\u001b[0;34m(self, cleanset_id, project_id, label_column, include_action)\u001b[0m\n\u001b[1;32m     63\u001b[0m \u001b[39mdef\u001b[39;00m \u001b[39m_download_cleanlab_columns\u001b[39m(\n\u001b[1;32m     64\u001b[0m     \u001b[39mself\u001b[39m,\n\u001b[1;32m     65\u001b[0m     cleanset_id: \u001b[39mstr\u001b[39m,\n\u001b[0;32m   (...)\u001b[0m\n\u001b[1;32m     68\u001b[0m     include_action: \u001b[39mbool\u001b[39m \u001b[39m=\u001b[39m \u001b[39mFalse\u001b[39;00m,\n\u001b[1;32m     69\u001b[0m ) \u001b[39m-\u001b[39m\u001b[39m>\u001b[39m pd\u001b[39m.\u001b[39mDataFrame:\n\u001b[0;32m---> 70\u001b[0m     rows \u001b[39m=\u001b[39m api\u001b[39m.\u001b[39;49mdownload_cleanlab_columns(\u001b[39mself\u001b[39;49m\u001b[39m.\u001b[39;49m_api_key, cleanset_id, \u001b[39mall\u001b[39;49m\u001b[39m=\u001b[39;49m\u001b[39mTrue\u001b[39;49;00m)\n\u001b[1;32m     71\u001b[0m     id_col \u001b[39m=\u001b[39m api\u001b[39m.\u001b[39mget_id_column(\u001b[39mself\u001b[39m\u001b[39m.\u001b[39m_api_key, cleanset_id)\n\u001b[1;32m     72\u001b[0m     \u001b[39m# TODO actually get _all_ the columns incl e.g., cleanlab_top_labels\u001b[39;00m\n\u001b[1;32m     73\u001b[0m     \u001b[39m# and have the API give the column headers rather than this library hard-coding it\u001b[39;00m\n",
      "File \u001b[0;32m/opt/homebrew/lib/python3.10/site-packages/cleanlab_studio/internal/api/api.py:168\u001b[0m, in \u001b[0;36mdownload_cleanlab_columns\u001b[0;34m(api_key, cleanset_id, all)\u001b[0m\n\u001b[1;32m    156\u001b[0m \u001b[39m\u001b[39m\u001b[39m\"\"\"\u001b[39;00m\n\u001b[1;32m    157\u001b[0m \u001b[39mDownload all rows from specified Cleanlab columns\u001b[39;00m\n\u001b[1;32m    158\u001b[0m \n\u001b[0;32m   (...)\u001b[0m\n\u001b[1;32m    162\u001b[0m \u001b[39m:return: return (rows, id_column)\u001b[39;00m\n\u001b[1;32m    163\u001b[0m \u001b[39m\"\"\"\u001b[39;00m\n\u001b[1;32m    164\u001b[0m res \u001b[39m=\u001b[39m requests\u001b[39m.\u001b[39mget(\n\u001b[1;32m    165\u001b[0m     cli_base_url \u001b[39m+\u001b[39m \u001b[39mf\u001b[39m\u001b[39m\"\u001b[39m\u001b[39m/cleansets/\u001b[39m\u001b[39m{\u001b[39;00mcleanset_id\u001b[39m}\u001b[39;00m\u001b[39m/columns?all=\u001b[39m\u001b[39m{\u001b[39;00m\u001b[39mall\u001b[39m\u001b[39m}\u001b[39;00m\u001b[39m\"\u001b[39m,\n\u001b[1;32m    166\u001b[0m     headers\u001b[39m=\u001b[39m_construct_headers(api_key),\n\u001b[1;32m    167\u001b[0m )\n\u001b[0;32m--> 168\u001b[0m handle_api_error(res)\n\u001b[1;32m    169\u001b[0m rows: List[List[Any]] \u001b[39m=\u001b[39m res\u001b[39m.\u001b[39mjson()[\u001b[39m\"\u001b[39m\u001b[39mrows\u001b[39m\u001b[39m\"\u001b[39m]\n\u001b[1;32m    170\u001b[0m \u001b[39mreturn\u001b[39;00m rows\n",
      "File \u001b[0;32m/opt/homebrew/lib/python3.10/site-packages/cleanlab_studio/internal/api/api.py:32\u001b[0m, in \u001b[0;36mhandle_api_error\u001b[0;34m(res)\u001b[0m\n\u001b[1;32m     31\u001b[0m \u001b[39mdef\u001b[39;00m \u001b[39mhandle_api_error\u001b[39m(res: requests\u001b[39m.\u001b[39mResponse) \u001b[39m-\u001b[39m\u001b[39m>\u001b[39m \u001b[39mNone\u001b[39;00m:\n\u001b[0;32m---> 32\u001b[0m     handle_api_error_from_json(res\u001b[39m.\u001b[39;49mjson())\n",
      "File \u001b[0;32m/opt/homebrew/lib/python3.10/site-packages/cleanlab_studio/internal/api/api.py:42\u001b[0m, in \u001b[0;36mhandle_api_error_from_json\u001b[0;34m(res_json)\u001b[0m\n\u001b[1;32m     40\u001b[0m         \u001b[39mraise\u001b[39;00m APIError(res_json[\u001b[39m\"\u001b[39m\u001b[39mdescription\u001b[39m\u001b[39m\"\u001b[39m])\n\u001b[1;32m     41\u001b[0m \u001b[39mif\u001b[39;00m res_json\u001b[39m.\u001b[39mget(\u001b[39m\"\u001b[39m\u001b[39merror\u001b[39m\u001b[39m\"\u001b[39m, \u001b[39mNone\u001b[39;00m) \u001b[39mis\u001b[39;00m \u001b[39mnot\u001b[39;00m \u001b[39mNone\u001b[39;00m:\n\u001b[0;32m---> 42\u001b[0m     \u001b[39mraise\u001b[39;00m APIError(res_json[\u001b[39m\"\u001b[39m\u001b[39merror\u001b[39m\u001b[39m\"\u001b[39m])\n",
      "\u001b[0;31mAPIError\u001b[0m: Cannot download cleanlab columns. Cleanset is not ready. You can check cleanset status at https://app.cleanlab.ai/ or by using the Python API `poll_cleanset_status()` method"
     ]
    }
   ],
   "source": [
    "cleanlab_columns_df = studio.download_cleanlab_columns(cleanset_id)\n",
    "cleanlab_columns_df.head()"
   ]
  },
  {
   "attachments": {},
   "cell_type": "markdown",
   "metadata": {},
   "source": [
    "7. Download cleanlab columns"
   ]
  },
  {
   "cell_type": "code",
   "execution_count": 8,
   "metadata": {},
   "outputs": [
    {
     "data": {
      "text/html": [
       "<div>\n",
       "<style scoped>\n",
       "    .dataframe tbody tr th:only-of-type {\n",
       "        vertical-align: middle;\n",
       "    }\n",
       "\n",
       "    .dataframe tbody tr th {\n",
       "        vertical-align: top;\n",
       "    }\n",
       "\n",
       "    .dataframe thead th {\n",
       "        text-align: right;\n",
       "    }\n",
       "</style>\n",
       "<table border=\"1\" class=\"dataframe\">\n",
       "  <thead>\n",
       "    <tr style=\"text-align: right;\">\n",
       "      <th></th>\n",
       "      <th>index</th>\n",
       "      <th>cleanlab_issue</th>\n",
       "      <th>cleanlab_label_quality</th>\n",
       "      <th>cleanlab_suggested_label</th>\n",
       "      <th>cleanlab_clean_label</th>\n",
       "    </tr>\n",
       "  </thead>\n",
       "  <tbody>\n",
       "    <tr>\n",
       "      <th>0</th>\n",
       "      <td>9316</td>\n",
       "      <td>True</td>\n",
       "      <td>0.050548</td>\n",
       "      <td>⭐⭐⭐⭐</td>\n",
       "      <td>None</td>\n",
       "    </tr>\n",
       "    <tr>\n",
       "      <th>1</th>\n",
       "      <td>9852</td>\n",
       "      <td>True</td>\n",
       "      <td>0.050820</td>\n",
       "      <td>⭐⭐⭐⭐⭐</td>\n",
       "      <td>None</td>\n",
       "    </tr>\n",
       "    <tr>\n",
       "      <th>2</th>\n",
       "      <td>14706</td>\n",
       "      <td>True</td>\n",
       "      <td>0.050994</td>\n",
       "      <td>⭐⭐⭐⭐⭐</td>\n",
       "      <td>None</td>\n",
       "    </tr>\n",
       "    <tr>\n",
       "      <th>3</th>\n",
       "      <td>11168</td>\n",
       "      <td>True</td>\n",
       "      <td>0.051186</td>\n",
       "      <td>⭐⭐⭐⭐⭐</td>\n",
       "      <td>None</td>\n",
       "    </tr>\n",
       "    <tr>\n",
       "      <th>4</th>\n",
       "      <td>217</td>\n",
       "      <td>True</td>\n",
       "      <td>0.175522</td>\n",
       "      <td>⭐⭐⭐⭐</td>\n",
       "      <td>None</td>\n",
       "    </tr>\n",
       "  </tbody>\n",
       "</table>\n",
       "</div>"
      ],
      "text/plain": [
       "   index  cleanlab_issue  cleanlab_label_quality cleanlab_suggested_label   \n",
       "0   9316            True                0.050548                     ⭐⭐⭐⭐  \\\n",
       "1   9852            True                0.050820                    ⭐⭐⭐⭐⭐   \n",
       "2  14706            True                0.050994                    ⭐⭐⭐⭐⭐   \n",
       "3  11168            True                0.051186                    ⭐⭐⭐⭐⭐   \n",
       "4    217            True                0.175522                     ⭐⭐⭐⭐   \n",
       "\n",
       "  cleanlab_clean_label  \n",
       "0                 None  \n",
       "1                 None  \n",
       "2                 None  \n",
       "3                 None  \n",
       "4                 None  "
      ]
     },
     "execution_count": 8,
     "metadata": {},
     "output_type": "execute_result"
    }
   ],
   "source": [
    "cleanlab_columns_df = studio.download_cleanlab_columns(\"c3e1f577fe804cea96cee770f074a27b\")\n",
    "cleanlab_columns_df.head()"
   ]
  },
  {
   "cell_type": "code",
   "execution_count": 9,
   "metadata": {},
   "outputs": [],
   "source": [
    "corrected_df = studio.apply_corrections(\"c3e1f577fe804cea96cee770f074a27b\", df)"
   ]
  },
  {
   "cell_type": "code",
   "execution_count": 11,
   "metadata": {},
   "outputs": [
    {
     "data": {
      "text/plain": [
       "(17500, 4)"
      ]
     },
     "execution_count": 11,
     "metadata": {},
     "output_type": "execute_result"
    }
   ],
   "source": [
    "df.shape"
   ]
  },
  {
   "cell_type": "code",
   "execution_count": 12,
   "metadata": {},
   "outputs": [
    {
     "data": {
      "text/html": [
       "<div>\n",
       "<style scoped>\n",
       "    .dataframe tbody tr th:only-of-type {\n",
       "        vertical-align: middle;\n",
       "    }\n",
       "\n",
       "    .dataframe tbody tr th {\n",
       "        vertical-align: top;\n",
       "    }\n",
       "\n",
       "    .dataframe thead th {\n",
       "        text-align: right;\n",
       "    }\n",
       "</style>\n",
       "<table border=\"1\" class=\"dataframe\">\n",
       "  <thead>\n",
       "    <tr style=\"text-align: right;\">\n",
       "      <th></th>\n",
       "      <th>index</th>\n",
       "      <th>review_text</th>\n",
       "      <th>asin</th>\n",
       "      <th>stars</th>\n",
       "    </tr>\n",
       "  </thead>\n",
       "  <tbody>\n",
       "    <tr>\n",
       "      <th>240</th>\n",
       "      <td>240</td>\n",
       "      <td>This is the best woman's magazine out there: a...</td>\n",
       "      <td>B00005N7QC</td>\n",
       "      <td>⭐⭐⭐⭐⭐</td>\n",
       "    </tr>\n",
       "    <tr>\n",
       "      <th>250</th>\n",
       "      <td>250</td>\n",
       "      <td>Your system would not let me cancel this order...</td>\n",
       "      <td>B00005N7QC</td>\n",
       "      <td>⭐</td>\n",
       "    </tr>\n",
       "    <tr>\n",
       "      <th>320</th>\n",
       "      <td>320</td>\n",
       "      <td>I ordered this magazine and did not receive on...</td>\n",
       "      <td>B00005N7RD</td>\n",
       "      <td>⭐</td>\n",
       "    </tr>\n",
       "    <tr>\n",
       "      <th>322</th>\n",
       "      <td>322</td>\n",
       "      <td>I have loved BH &amp; G for 40 yrs it seems!</td>\n",
       "      <td>B00005N7OV</td>\n",
       "      <td>⭐⭐⭐⭐⭐</td>\n",
       "    </tr>\n",
       "    <tr>\n",
       "      <th>519</th>\n",
       "      <td>519</td>\n",
       "      <td>Always loved this mag, great to be able to tot...</td>\n",
       "      <td>B00005N7OV</td>\n",
       "      <td>⭐⭐⭐⭐⭐</td>\n",
       "    </tr>\n",
       "    <tr>\n",
       "      <th>...</th>\n",
       "      <td>...</td>\n",
       "      <td>...</td>\n",
       "      <td>...</td>\n",
       "      <td>...</td>\n",
       "    </tr>\n",
       "    <tr>\n",
       "      <th>16896</th>\n",
       "      <td>16896</td>\n",
       "      <td>One of my favorite magazines I've purchased fo...</td>\n",
       "      <td>B00VATZJPQ</td>\n",
       "      <td>⭐⭐⭐⭐⭐</td>\n",
       "    </tr>\n",
       "    <tr>\n",
       "      <th>17012</th>\n",
       "      <td>17012</td>\n",
       "      <td>Excellent mag. Lots of great articles. My favo...</td>\n",
       "      <td>B00YQH98G0</td>\n",
       "      <td>⭐⭐⭐⭐⭐</td>\n",
       "    </tr>\n",
       "    <tr>\n",
       "      <th>17047</th>\n",
       "      <td>17047</td>\n",
       "      <td>I've been subscribing to this magazine since i...</td>\n",
       "      <td>B00ZSGXN3W</td>\n",
       "      <td>⭐⭐⭐⭐⭐</td>\n",
       "    </tr>\n",
       "    <tr>\n",
       "      <th>17247</th>\n",
       "      <td>17247</td>\n",
       "      <td>Always surprised at the current and useful inf...</td>\n",
       "      <td>B016N11NR8</td>\n",
       "      <td>⭐⭐⭐⭐</td>\n",
       "    </tr>\n",
       "    <tr>\n",
       "      <th>17356</th>\n",
       "      <td>17356</td>\n",
       "      <td>I did not even order this .</td>\n",
       "      <td>B01AAQYXQA</td>\n",
       "      <td>⭐</td>\n",
       "    </tr>\n",
       "  </tbody>\n",
       "</table>\n",
       "<p>200 rows × 4 columns</p>\n",
       "</div>"
      ],
      "text/plain": [
       "       index                                        review_text        asin   \n",
       "240      240  This is the best woman's magazine out there: a...  B00005N7QC  \\\n",
       "250      250  Your system would not let me cancel this order...  B00005N7QC   \n",
       "320      320  I ordered this magazine and did not receive on...  B00005N7RD   \n",
       "322      322           I have loved BH & G for 40 yrs it seems!  B00005N7OV   \n",
       "519      519  Always loved this mag, great to be able to tot...  B00005N7OV   \n",
       "...      ...                                                ...         ...   \n",
       "16896  16896  One of my favorite magazines I've purchased fo...  B00VATZJPQ   \n",
       "17012  17012  Excellent mag. Lots of great articles. My favo...  B00YQH98G0   \n",
       "17047  17047  I've been subscribing to this magazine since i...  B00ZSGXN3W   \n",
       "17247  17247  Always surprised at the current and useful inf...  B016N11NR8   \n",
       "17356  17356                        I did not even order this .  B01AAQYXQA   \n",
       "\n",
       "       stars  \n",
       "240    ⭐⭐⭐⭐⭐  \n",
       "250        ⭐  \n",
       "320        ⭐  \n",
       "322    ⭐⭐⭐⭐⭐  \n",
       "519    ⭐⭐⭐⭐⭐  \n",
       "...      ...  \n",
       "16896  ⭐⭐⭐⭐⭐  \n",
       "17012  ⭐⭐⭐⭐⭐  \n",
       "17047  ⭐⭐⭐⭐⭐  \n",
       "17247   ⭐⭐⭐⭐  \n",
       "17356      ⭐  \n",
       "\n",
       "[200 rows x 4 columns]"
      ]
     },
     "execution_count": 12,
     "metadata": {},
     "output_type": "execute_result"
    }
   ],
   "source": [
    "corrected_df[corrected_df.apply(lambda x: x[\"stars\"] != df.iloc[x[\"index\"]][\"stars\"], axis=1)]"
   ]
  },
  {
   "cell_type": "code",
   "execution_count": 13,
   "metadata": {},
   "outputs": [
    {
     "data": {
      "text/html": [
       "<div>\n",
       "<style scoped>\n",
       "    .dataframe tbody tr th:only-of-type {\n",
       "        vertical-align: middle;\n",
       "    }\n",
       "\n",
       "    .dataframe tbody tr th {\n",
       "        vertical-align: top;\n",
       "    }\n",
       "\n",
       "    .dataframe thead th {\n",
       "        text-align: right;\n",
       "    }\n",
       "</style>\n",
       "<table border=\"1\" class=\"dataframe\">\n",
       "  <thead>\n",
       "    <tr style=\"text-align: right;\">\n",
       "      <th></th>\n",
       "      <th>index</th>\n",
       "      <th>review_text</th>\n",
       "      <th>asin</th>\n",
       "      <th>stars</th>\n",
       "    </tr>\n",
       "  </thead>\n",
       "  <tbody>\n",
       "    <tr>\n",
       "      <th>9316</th>\n",
       "      <td>9316</td>\n",
       "      <td>good thank you</td>\n",
       "      <td>B000HWY1PG</td>\n",
       "      <td>⭐⭐⭐</td>\n",
       "    </tr>\n",
       "    <tr>\n",
       "      <th>9852</th>\n",
       "      <td>9852</td>\n",
       "      <td>I have always loved Family Circle and to have ...</td>\n",
       "      <td>B000IJ84F6</td>\n",
       "      <td>⭐⭐⭐⭐</td>\n",
       "    </tr>\n",
       "    <tr>\n",
       "      <th>11168</th>\n",
       "      <td>11168</td>\n",
       "      <td>love this month's recipes!</td>\n",
       "      <td>B000IOEK7M</td>\n",
       "      <td>⭐⭐⭐⭐</td>\n",
       "    </tr>\n",
       "    <tr>\n",
       "      <th>14706</th>\n",
       "      <td>14706</td>\n",
       "      <td>I love the magazine and gain inspiration for m...</td>\n",
       "      <td>B00005QJE0</td>\n",
       "      <td>⭐</td>\n",
       "    </tr>\n",
       "  </tbody>\n",
       "</table>\n",
       "</div>"
      ],
      "text/plain": [
       "       index                                        review_text        asin   \n",
       "9316    9316                                     good thank you  B000HWY1PG  \\\n",
       "9852    9852  I have always loved Family Circle and to have ...  B000IJ84F6   \n",
       "11168  11168                         love this month's recipes!  B000IOEK7M   \n",
       "14706  14706  I love the magazine and gain inspiration for m...  B00005QJE0   \n",
       "\n",
       "      stars  \n",
       "9316    ⭐⭐⭐  \n",
       "9852   ⭐⭐⭐⭐  \n",
       "11168  ⭐⭐⭐⭐  \n",
       "14706     ⭐  "
      ]
     },
     "execution_count": 13,
     "metadata": {},
     "output_type": "execute_result"
    }
   ],
   "source": [
    "df[df.apply(lambda x: x[\"index\"] not in corrected_df[\"index\"], axis=1)]"
   ]
  },
  {
   "cell_type": "code",
   "execution_count": null,
   "metadata": {},
   "outputs": [],
   "source": []
  }
 ],
 "metadata": {
  "kernelspec": {
   "display_name": ".venv",
   "language": "python",
   "name": "python3"
  },
  "language_info": {
   "codemirror_mode": {
    "name": "ipython",
    "version": 3
   },
   "file_extension": ".py",
   "mimetype": "text/x-python",
   "name": "python",
   "nbconvert_exporter": "python",
   "pygments_lexer": "ipython3",
   "version": "3.10.11"
  },
  "orig_nbformat": 4
 },
 "nbformat": 4,
 "nbformat_minor": 2
}
